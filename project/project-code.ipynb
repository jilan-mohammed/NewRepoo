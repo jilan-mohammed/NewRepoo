{
 "cells": [
  {
   "cell_type": "code",
   "execution_count": null,
   "id": "c5ce8b3c",
   "metadata": {},
   "outputs": [],
   "source": [
    "# Simple MediApp Console Version\n",
    "\n",
    "# Data Storage (in-memory dictionaries)\n",
    "users = {}\n",
    "appointments = []\n",
    "\n",
    "# Classes\n",
    "class User:\n",
    "    def __init__(self, username, role):\n",
    "        self.username = username\n",
    "        self.role = role  # \"patient\" or \"doctor\"\n",
    "\n",
    "class Appointment:\n",
    "    def __init__(self, patient, doctor, time):\n",
    "        self.patient = patient\n",
    "        self.doctor = doctor\n",
    "        self.time = time\n",
    "\n",
    "# Functions\n",
    "def register_user(username, role):\n",
    "    if username in users:\n",
    "        print(\"Username already exists.\")\n",
    "    else:\n",
    "        users[username] = User(username, role)\n",
    "        print(f\"{role.capitalize()} '{username}' registered successfully.\")\n",
    "\n",
    "def search_doctors():\n",
    "    print(\"Available doctors:\")\n",
    "    for user in users.values():\n",
    "        if user.role == \"doctor\":\n",
    "            print(f\"- Dr. {user.username}\")\n",
    "\n",
    "def book_appointment(patient_name, doctor_name, time):\n",
    "    if patient_name not in users or doctor_name not in users:\n",
    "        print(\"Invalid patient or doctor.\")\n",
    "        return\n",
    "    appointment = Appointment(patient_name, doctor_name, time)\n",
    "    appointments.append(appointment)\n",
    "    print(f\"Appointment booked with Dr. {doctor_name} at {time}.\")\n",
    "\n",
    "def view_appointments(username):\n",
    "    print(f\"Appointments for {username}:\")\n",
    "    for app in appointments:\n",
    "        if app.patient == username or app.doctor == username:\n",
    "            print(f\"- {app.patient} with Dr. {app.doctor} at {app.time}\")\n",
    "\n",
    "# Sample Flow\n",
    "register_user(\"alice\", \"patient\")\n",
    "register_user(\"bob\", \"doctor\")\n",
    "search_doctors()\n",
    "book_appointment(\"alice\", \"bob\", \"10:00 AM\")\n",
    "view_appointments(\"alice\")\n",
    "view_appointments(\"bob\")\n"
   ]
  }
 ],
 "metadata": {
  "kernelspec": {
   "display_name": "Python 3 (ipykernel)",
   "language": "python",
   "name": "python3"
  },
  "language_info": {
   "codemirror_mode": {
    "name": "ipython",
    "version": 3
   },
   "file_extension": ".py",
   "mimetype": "text/x-python",
   "name": "python",
   "nbconvert_exporter": "python",
   "pygments_lexer": "ipython3",
   "version": "3.9.13"
  }
 },
 "nbformat": 4,
 "nbformat_minor": 5
}
